{
 "cells": [
  {
   "cell_type": "code",
   "execution_count": null,
   "id": "15cc4aa0",
   "metadata": {
    "vscode": {
     "languageId": "plaintext"
    }
   },
   "outputs": [],
   "source": [
    "import numpy as np\n",
    "import matplotlib.pyplot as plt\n",
    "import pandas as pd\n",
    "\n",
    "dataset = pd.read_csv('loan_approval_dataset.csv')\n",
    "X = dataset.iloc[:, [4, 7]].values  # Assuming [5]=Credit Score, [6]=Salary\n",
    "y = dataset.iloc[:, -1].values\n",
    "\n",
    "# Encode target variable\n",
    "from sklearn.preprocessing import LabelEncoder\n",
    "le = LabelEncoder()\n",
    "y = le.fit_transform(y)  # Now y contains 0 and 1 instead of 'approved'/'denied'\n",
    "\n",
    "from sklearn.model_selection import train_test_split\n",
    "X_train, X_test, y_train, y_test = train_test_split(X, y, test_size=0.2, random_state=0)\n",
    "\n",
    "from sklearn.preprocessing import StandardScaler\n",
    "sc = StandardScaler()\n",
    "X_train = sc.fit_transform(X_train)\n",
    "X_test = sc.transform(X_test)\n",
    "\n",
    "\n",
    "# Save inverse-transformed versions for plotting\n",
    "X_train_orig = sc.inverse_transform(X_train)\n",
    "X_test_orig = sc.inverse_transform(X_test)\n",
    "\n",
    "from sklearn.linear_model import LogisticRegression\n",
    "classifier = LogisticRegression(random_state=0)\n",
    "classifier.fit(X_train, y_train)\n",
    "\n",
    "y_pred = classifier.predict(X_test)\n"
   ]
  },
  {
   "cell_type": "code",
   "execution_count": null,
   "id": "b0a36e4b",
   "metadata": {
    "vscode": {
     "languageId": "plaintext"
    }
   },
   "outputs": [],
   "source": [
    "from sklearn.metrics import confusion_matrix, accuracy_score\n",
    "\n",
    "# Predictions on training set\n",
    "y_train_pred = classifier.predict(X_train)\n",
    "\n",
    "# Confusion matrices\n",
    "cm_train = confusion_matrix(y_train, y_train_pred)\n",
    "cm_test = confusion_matrix(y_test, y_pred)\n",
    "\n",
    "# Accuracy scores\n",
    "train_accuracy = accuracy_score(y_train, y_train_pred)\n",
    "test_accuracy = accuracy_score(y_test, y_pred)\n",
    "\n",
    "print(\"Training Confusion Matrix:\\n\", cm_train)\n",
    "print(\"Test Confusion Matrix:\\n\", cm_test)\n",
    "print(\"Training Accuracy:\", train_accuracy)\n",
    "print(\"Test Accuracy:\", test_accuracy)\n"
   ]
  },
  {
   "cell_type": "code",
   "execution_count": null,
   "id": "79bde6f0",
   "metadata": {
    "vscode": {
     "languageId": "plaintext"
    }
   },
   "outputs": [],
   "source": [
    "from matplotlib.colors import ListedColormap\n",
    "\n",
    "# For decision boundary, stay in standardized space\n",
    "X1, X2 = np.meshgrid(\n",
    "    np.arange(start=X_train[:, 0].min() - 1, stop=X_train[:, 0].max() + 1, step=0.01),\n",
    "    np.arange(start=X_train[:, 1].min() - 1, stop=X_train[:, 1].max() + 1, step=0.01)\n",
    ")\n",
    "grid = np.c_[X1.ravel(), X2.ravel()]\n",
    "Z = classifier.predict(grid).reshape(X1.shape)\n",
    "\n",
    "# Plot original (unscaled) values on axes\n",
    "plt.figure(figsize=(10, 6))\n",
    "plt.contourf(X1, X2, Z, alpha=0.75, cmap=ListedColormap(('red', 'green')))\n",
    "\n",
    "# Use inverse-transformed data for scatter plot\n",
    "plt.scatter(X_train_orig[:, 0], X_train_orig[:, 1], c=y_train, cmap=ListedColormap(('red', 'green')))\n",
    "plt.title('Logistic Regression (Training set)')\n",
    "plt.xlabel('Credit Score')\n",
    "plt.ylabel('Salary')\n",
    "plt.show()\n"
   ]
  },
  {
   "cell_type": "code",
   "execution_count": null,
   "id": "d96b31b1",
   "metadata": {
    "vscode": {
     "languageId": "plaintext"
    }
   },
   "outputs": [],
   "source": [
    "X1, X2 = np.meshgrid(\n",
    "    np.arange(start=X_test[:, 0].min() - 1, stop=X_test[:, 0].max() + 1, step=0.01),\n",
    "    np.arange(start=X_test[:, 1].min() - 1, stop=X_test[:, 1].max() + 1, step=0.01)\n",
    ")\n",
    "grid = np.c_[X1.ravel(), X2.ravel()]\n",
    "Z = classifier.predict(grid).reshape(X1.shape)\n",
    "\n",
    "plt.figure(figsize=(10, 6))\n",
    "plt.contourf(X1, X2, Z, alpha=0.75, cmap=ListedColormap(('red', 'green')))\n",
    "plt.scatter(X_test_orig[:, 0], X_test_orig[:, 1], c=y_test, cmap=ListedColormap(('red', 'green')))\n",
    "plt.title('Logistic Regression (Test set)')\n",
    "plt.xlabel('Credit Score')\n",
    "plt.ylabel('Salary')\n",
    "plt.show()\n"
   ]
  }
 ],
 "metadata": {
  "language_info": {
   "name": "python"
  }
 },
 "nbformat": 4,
 "nbformat_minor": 5
}
